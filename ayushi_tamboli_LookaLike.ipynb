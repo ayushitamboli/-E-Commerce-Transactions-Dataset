{
 "cells": [
  {
   "cell_type": "code",
   "execution_count": null,
   "id": "cbc9d3f9-fb4d-4acd-9b13-e92360085739",
   "metadata": {},
   "outputs": [],
   "source": [
    "import pandas as pd\n",
    "import numpy as np\n",
    "from sklearn.metrics.pairwise import cosine_similarity\n",
    "from sklearn.preprocessing import StandardScaler\n",
    "from sklearn.cluster import KMeans\n",
    "from sklearn.decomposition import PCA\n",
    "from sklearn.metrics import davies_bouldin_score\n",
    "import matplotlib.pyplot as plt\n",
    "import seaborn as sns"
   ]
  },
  {
   "cell_type": "code",
   "execution_count": null,
   "id": "6ff4eea8-32f9-4f34-a4a9-fa75212f17a2",
   "metadata": {},
   "outputs": [],
   "source": [
    "customers = pd.read_csv(\"Customers.csv\")\n",
    "products = pd.read_csv(\"Products.csv\")\n",
    "transactions = pd.read_csv(\"Transactions.csv\")\n",
    "print(customers.head())\n",
    "print(products.head())\n",
    "print(transactions.head())"
   ]
  },
  {
   "cell_type": "code",
   "execution_count": null,
   "id": "59347f4f-0247-446e-a603-8229a9ba490e",
   "metadata": {},
   "outputs": [],
   "source": [
    "print(customers.info())\n",
    "print(products.describe())\n",
    "print(transactions.describe())"
   ]
  },
  {
   "cell_type": "markdown",
   "id": "ee190d8c-9e2c-4366-8ab1-ebf91e8584fc",
   "metadata": {},
   "source": [
    "**LOOKALIKE MODEL**"
   ]
  },
  {
   "cell_type": "code",
   "execution_count": null,
   "id": "85676111-447d-4c6f-b4f8-cf79aa7b1a5d",
   "metadata": {},
   "outputs": [],
   "source": [
    "customer_product_matrix = merged_data.pivot_table(index=\"CustomerID\", columns=\"ProductName\", values=\"Quantity\", aggfunc=\"sum\", fill_value=0)\n",
    "print(customer_product_matrix)\n"
   ]
  },
  {
   "cell_type": "code",
   "execution_count": null,
   "id": "87a0a96e-3fa9-40d0-a6f8-7cac0bc3d2a0",
   "metadata": {},
   "outputs": [],
   "source": [
    "similarity_matrix = cosine_similarity(customer_product_matrix)\n",
    "similarity_df = pd.DataFrame(similarity_matrix, index=customer_product_matrix.index, columns=customer_product_matrix.index)\n",
    "similarity_df.head()\n"
   ]
  },
  {
   "cell_type": "code",
   "execution_count": null,
   "id": "a08d57bb-a6bf-47c9-b63a-3de29e6eb620",
   "metadata": {},
   "outputs": [],
   "source": []
  }
 ],
 "metadata": {
  "kernelspec": {
   "display_name": "Python 3 (ipykernel)",
   "language": "python",
   "name": "python3"
  },
  "language_info": {
   "codemirror_mode": {
    "name": "ipython",
    "version": 3
   },
   "file_extension": ".py",
   "mimetype": "text/x-python",
   "name": "python",
   "nbconvert_exporter": "python",
   "pygments_lexer": "ipython3",
   "version": "3.12.4"
  }
 },
 "nbformat": 4,
 "nbformat_minor": 5
}
