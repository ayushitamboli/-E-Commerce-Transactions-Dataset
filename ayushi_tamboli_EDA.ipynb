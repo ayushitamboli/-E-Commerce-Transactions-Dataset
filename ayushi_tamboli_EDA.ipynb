{
 "cells": [
  {
   "cell_type": "code",
   "execution_count": null,
   "id": "5da7f02f-852b-4230-8373-e92cb4c90fa1",
   "metadata": {},
   "outputs": [],
   "source": [
    "import pandas as pd\n",
    "import numpy as np\n",
    "from sklearn.metrics.pairwise import cosine_similarity\n",
    "from sklearn.preprocessing import StandardScaler\n",
    "from sklearn.cluster import KMeans\n",
    "from sklearn.decomposition import PCA\n",
    "from sklearn.metrics import davies_bouldin_score\n",
    "import matplotlib.pyplot as plt\n",
    "import seaborn as sns"
   ]
  },
  {
   "cell_type": "code",
   "execution_count": null,
   "id": "9e7d362c-ba34-439a-a400-206d5e2165b4",
   "metadata": {},
   "outputs": [],
   "source": []
  },
  {
   "cell_type": "markdown",
   "id": "82a28f15-7366-49ab-ac43-127cf88f32bb",
   "metadata": {},
   "source": [
    "**EXPLORATORY DATA ANALYSIS**"
   ]
  },
  {
   "cell_type": "code",
   "execution_count": null,
   "id": "48cf30fa-241b-49b0-befb-25350f188cc2",
   "metadata": {},
   "outputs": [],
   "source": [
    "merged_data = transactions.merge(customers, on=\"CustomerID\", how=\"left\").merge(products, on=\"ProductID\", how=\"left\")\n",
    "print(merged_data.head())\n"
   ]
  },
  {
   "cell_type": "code",
   "execution_count": null,
   "id": "e59962a7-e475-4c7b-88bd-1fe61284d96b",
   "metadata": {},
   "outputs": [],
   "source": [
    "print(\"EDA Insights:\")\n",
    "total_sales = merged_data[\"TotalValue\"].sum()\n",
    "print(f\"Total Sales: ${total_sales}\")\n"
   ]
  },
  {
   "cell_type": "code",
   "execution_count": null,
   "id": "32bfc0e3-4307-4bde-a264-37842f9dd8e9",
   "metadata": {},
   "outputs": [],
   "source": [
    "top_products = merged_data.groupby(\"ProductName\")[\"Quantity\"].sum().sort_values(ascending=False).head(5)\n",
    "print(\"Top 5 Products by Quantity Sold:\")\n",
    "print(top_products)\n",
    "\n",
    "top_regions = merged_data.groupby(\"Region\")[\"TotalValue\"].sum().sort_values(ascending=False).head(5)\n",
    "print(\"Top Regions by Sales:\")\n",
    "print(top_regions)"
   ]
  },
  {
   "cell_type": "code",
   "execution_count": null,
   "id": "d5bb94d9-b0ff-4027-aa99-5e2cc5f47367",
   "metadata": {},
   "outputs": [],
   "source": [
    "most_frequent_customers = merged_data.groupby(\"CustomerID\")[\"TransactionID\"].count().sort_values(ascending=False).head(5)\n",
    "print(\"Most Frequent Customers:\")\n",
    "print(most_frequent_customers)\n",
    "\n",
    "average_transaction_value = merged_data[\"TotalValue\"].mean()\n",
    "print(f\"Average Transaction Value: ${average_transaction_value:.2f}\")"
   ]
  }
 ],
 "metadata": {
  "kernelspec": {
   "display_name": "Python 3 (ipykernel)",
   "language": "python",
   "name": "python3"
  },
  "language_info": {
   "codemirror_mode": {
    "name": "ipython",
    "version": 3
   },
   "file_extension": ".py",
   "mimetype": "text/x-python",
   "name": "python",
   "nbconvert_exporter": "python",
   "pygments_lexer": "ipython3",
   "version": "3.12.4"
  }
 },
 "nbformat": 4,
 "nbformat_minor": 5
}
