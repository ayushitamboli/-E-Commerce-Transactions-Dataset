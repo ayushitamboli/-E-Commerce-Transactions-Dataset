{
 "cells": [
  {
   "cell_type": "code",
   "execution_count": null,
   "id": "62a353ce-67c5-4ec3-8da7-506a4f8208dd",
   "metadata": {},
   "outputs": [],
   "source": [
    "**CUSTOMER CLUSTERING**"
   ]
  },
  {
   "cell_type": "code",
   "execution_count": null,
   "id": "673e689d-847f-4e90-811a-fa7bf099e61f",
   "metadata": {},
   "outputs": [],
   "source": []
  }
 ],
 "metadata": {
  "kernelspec": {
   "display_name": "Python 3 (ipykernel)",
   "language": "python",
   "name": "python3"
  },
  "language_info": {
   "codemirror_mode": {
    "name": "ipython",
    "version": 3
   },
   "file_extension": ".py",
   "mimetype": "text/x-python",
   "name": "python",
   "nbconvert_exporter": "python",
   "pygments_lexer": "ipython3",
   "version": "3.12.4"
  }
 },
 "nbformat": 4,
 "nbformat_minor": 5
}
